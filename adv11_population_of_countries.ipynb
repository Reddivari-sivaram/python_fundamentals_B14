{
 "cells": [
  {
   "cell_type": "code",
   "execution_count": 1,
   "metadata": {},
   "outputs": [],
   "source": [
    "import numpy as np\n",
    "import pandas as pd\n",
    "from matplotlib import pyplot as plt"
   ]
  },
  {
   "cell_type": "code",
   "execution_count": 10,
   "metadata": {},
   "outputs": [
    {
     "ename": "SyntaxError",
     "evalue": "invalid syntax (<ipython-input-10-583e96c27ca6>, line 2)",
     "output_type": "error",
     "traceback": [
      "\u001b[1;36m  File \u001b[1;32m\"<ipython-input-10-583e96c27ca6>\"\u001b[1;36m, line \u001b[1;32m2\u001b[0m\n\u001b[1;33m    ----------------------------\u001b[0m\n\u001b[1;37m                                ^\u001b[0m\n\u001b[1;31mSyntaxError\u001b[0m\u001b[1;31m:\u001b[0m invalid syntax\n"
     ]
    }
   ],
   "source": [
    "# processing the data series:-\n",
    "----------------------------"
   ]
  },
  {
   "cell_type": "code",
   "execution_count": 3,
   "metadata": {},
   "outputs": [],
   "source": [
    "sd=pd.read_csv('sample_data (2).csv')"
   ]
  },
  {
   "cell_type": "code",
   "execution_count": 4,
   "metadata": {},
   "outputs": [
    {
     "data": {
      "text/html": [
       "<div>\n",
       "<style scoped>\n",
       "    .dataframe tbody tr th:only-of-type {\n",
       "        vertical-align: middle;\n",
       "    }\n",
       "\n",
       "    .dataframe tbody tr th {\n",
       "        vertical-align: top;\n",
       "    }\n",
       "\n",
       "    .dataframe thead th {\n",
       "        text-align: right;\n",
       "    }\n",
       "</style>\n",
       "<table border=\"1\" class=\"dataframe\">\n",
       "  <thead>\n",
       "    <tr style=\"text-align: right;\">\n",
       "      <th></th>\n",
       "      <th>column_a</th>\n",
       "      <th>column_b</th>\n",
       "      <th>column_c</th>\n",
       "    </tr>\n",
       "  </thead>\n",
       "  <tbody>\n",
       "    <tr>\n",
       "      <td>0</td>\n",
       "      <td>1</td>\n",
       "      <td>1</td>\n",
       "      <td>10</td>\n",
       "    </tr>\n",
       "    <tr>\n",
       "      <td>1</td>\n",
       "      <td>2</td>\n",
       "      <td>4</td>\n",
       "      <td>8</td>\n",
       "    </tr>\n",
       "    <tr>\n",
       "      <td>2</td>\n",
       "      <td>3</td>\n",
       "      <td>9</td>\n",
       "      <td>6</td>\n",
       "    </tr>\n",
       "    <tr>\n",
       "      <td>3</td>\n",
       "      <td>4</td>\n",
       "      <td>16</td>\n",
       "      <td>4</td>\n",
       "    </tr>\n",
       "    <tr>\n",
       "      <td>4</td>\n",
       "      <td>5</td>\n",
       "      <td>25</td>\n",
       "      <td>2</td>\n",
       "    </tr>\n",
       "  </tbody>\n",
       "</table>\n",
       "</div>"
      ],
      "text/plain": [
       "   column_a  column_b  column_c\n",
       "0         1         1        10\n",
       "1         2         4         8\n",
       "2         3         9         6\n",
       "3         4        16         4\n",
       "4         5        25         2"
      ]
     },
     "execution_count": 4,
     "metadata": {},
     "output_type": "execute_result"
    }
   ],
   "source": [
    "sd"
   ]
  },
  {
   "cell_type": "code",
   "execution_count": 5,
   "metadata": {},
   "outputs": [
    {
     "data": {
      "text/plain": [
       "pandas.core.frame.DataFrame"
      ]
     },
     "execution_count": 5,
     "metadata": {},
     "output_type": "execute_result"
    }
   ],
   "source": [
    "type(sd)"
   ]
  },
  {
   "cell_type": "code",
   "execution_count": null,
   "metadata": {},
   "outputs": [],
   "source": [
    "# req:- want ot retrive a single colmun from the above data,how to do it.\n",
    "------"
   ]
  },
  {
   "cell_type": "code",
   "execution_count": 8,
   "metadata": {},
   "outputs": [
    {
     "data": {
      "text/plain": [
       "0    10\n",
       "1     8\n",
       "2     6\n",
       "3     4\n",
       "4     2\n",
       "Name: column_c, dtype: int64"
      ]
     },
     "execution_count": 8,
     "metadata": {},
     "output_type": "execute_result"
    }
   ],
   "source": [
    "sd.column_c"
   ]
  },
  {
   "cell_type": "code",
   "execution_count": 9,
   "metadata": {},
   "outputs": [
    {
     "data": {
      "text/plain": [
       "pandas.core.series.Series"
      ]
     },
     "execution_count": 9,
     "metadata": {},
     "output_type": "execute_result"
    }
   ],
   "source": [
    "type(sd.column_c)  # series beacuase of it is one dimensional"
   ]
  },
  {
   "cell_type": "code",
   "execution_count": null,
   "metadata": {},
   "outputs": [],
   "source": [
    "# req:- want to plot a graph between column_a and columns_b\n",
    "-----"
   ]
  },
  {
   "cell_type": "code",
   "execution_count": 20,
   "metadata": {},
   "outputs": [
    {
     "data": {
      "image/png": "[encoded data removed]",
      "text/plain": [
       "<Figure size 432x288 with 1 Axes>"
      ]
     },
     "metadata": {
      "needs_background": "light"
     },
     "output_type": "display_data"
    }
   ],
   "source": [
    "plt.plot(sd.column_a,sd.column_b)\n",
    "plt.plot(sd.column_b,sd.column_c)\n",
    "plt.title(\"bteween column_a and colmun_b\")\n",
    "plt.xlabel(\"x-axis\")\n",
    "plt.legend(['a and b','b and c'])\n",
    "plt.ylabel(\"y-axis\")\n",
    "plt.show()"
   ]
  },
  {
   "cell_type": "code",
   "execution_count": null,
   "metadata": {},
   "outputs": [],
   "source": []
  },
  {
   "cell_type": "code",
   "execution_count": 21,
   "metadata": {},
   "outputs": [],
   "source": [
    "# understanding of contries (2) data"
   ]
  },
  {
   "cell_type": "code",
   "execution_count": 29,
   "metadata": {},
   "outputs": [],
   "source": [
    "c=pd.read_csv('countries (2).csv')"
   ]
  },
  {
   "cell_type": "code",
   "execution_count": 30,
   "metadata": {},
   "outputs": [
    {
     "data": {
      "text/html": [
       "<div>\n",
       "<style scoped>\n",
       "    .dataframe tbody tr th:only-of-type {\n",
       "        vertical-align: middle;\n",
       "    }\n",
       "\n",
       "    .dataframe tbody tr th {\n",
       "        vertical-align: top;\n",
       "    }\n",
       "\n",
       "    .dataframe thead th {\n",
       "        text-align: right;\n",
       "    }\n",
       "</style>\n",
       "<table border=\"1\" class=\"dataframe\">\n",
       "  <thead>\n",
       "    <tr style=\"text-align: right;\">\n",
       "      <th></th>\n",
       "      <th>country</th>\n",
       "      <th>year</th>\n",
       "      <th>population</th>\n",
       "    </tr>\n",
       "  </thead>\n",
       "  <tbody>\n",
       "    <tr>\n",
       "      <td>0</td>\n",
       "      <td>Afghanistan</td>\n",
       "      <td>1952</td>\n",
       "      <td>8425333</td>\n",
       "    </tr>\n",
       "    <tr>\n",
       "      <td>1</td>\n",
       "      <td>Afghanistan</td>\n",
       "      <td>1957</td>\n",
       "      <td>9240934</td>\n",
       "    </tr>\n",
       "    <tr>\n",
       "      <td>2</td>\n",
       "      <td>Afghanistan</td>\n",
       "      <td>1962</td>\n",
       "      <td>10267083</td>\n",
       "    </tr>\n",
       "    <tr>\n",
       "      <td>3</td>\n",
       "      <td>Afghanistan</td>\n",
       "      <td>1967</td>\n",
       "      <td>11537966</td>\n",
       "    </tr>\n",
       "    <tr>\n",
       "      <td>4</td>\n",
       "      <td>Afghanistan</td>\n",
       "      <td>1972</td>\n",
       "      <td>13079460</td>\n",
       "    </tr>\n",
       "    <tr>\n",
       "      <td>...</td>\n",
       "      <td>...</td>\n",
       "      <td>...</td>\n",
       "      <td>...</td>\n",
       "    </tr>\n",
       "    <tr>\n",
       "      <td>1699</td>\n",
       "      <td>Zimbabwe</td>\n",
       "      <td>1987</td>\n",
       "      <td>9216418</td>\n",
       "    </tr>\n",
       "    <tr>\n",
       "      <td>1700</td>\n",
       "      <td>Zimbabwe</td>\n",
       "      <td>1992</td>\n",
       "      <td>10704340</td>\n",
       "    </tr>\n",
       "    <tr>\n",
       "      <td>1701</td>\n",
       "      <td>Zimbabwe</td>\n",
       "      <td>1997</td>\n",
       "      <td>11404948</td>\n",
       "    </tr>\n",
       "    <tr>\n",
       "      <td>1702</td>\n",
       "      <td>Zimbabwe</td>\n",
       "      <td>2002</td>\n",
       "      <td>11926563</td>\n",
       "    </tr>\n",
       "    <tr>\n",
       "      <td>1703</td>\n",
       "      <td>Zimbabwe</td>\n",
       "      <td>2007</td>\n",
       "      <td>12311143</td>\n",
       "    </tr>\n",
       "  </tbody>\n",
       "</table>\n",
       "<p>1704 rows × 3 columns</p>\n",
       "</div>"
      ],
      "text/plain": [
       "          country  year  population\n",
       "0     Afghanistan  1952     8425333\n",
       "1     Afghanistan  1957     9240934\n",
       "2     Afghanistan  1962    10267083\n",
       "3     Afghanistan  1967    11537966\n",
       "4     Afghanistan  1972    13079460\n",
       "...           ...   ...         ...\n",
       "1699     Zimbabwe  1987     9216418\n",
       "1700     Zimbabwe  1992    10704340\n",
       "1701     Zimbabwe  1997    11404948\n",
       "1702     Zimbabwe  2002    11926563\n",
       "1703     Zimbabwe  2007    12311143\n",
       "\n",
       "[1704 rows x 3 columns]"
      ]
     },
     "execution_count": 30,
     "metadata": {},
     "output_type": "execute_result"
    }
   ],
   "source": [
    "c"
   ]
  },
  {
   "cell_type": "code",
   "execution_count": 34,
   "metadata": {},
   "outputs": [
    {
     "data": {
      "text/plain": [
       "array(['Afghanistan', 'Albania', 'Algeria', 'Angola', 'Argentina',\n",
       "       'Australia', 'Austria', 'Bahrain', 'Bangladesh', 'Belgium',\n",
       "       'Benin', 'Bolivia', 'Bosnia and Herzegovina', 'Botswana', 'Brazil',\n",
       "       'Bulgaria', 'Burkina Faso', 'Burundi', 'Cambodia', 'Cameroon',\n",
       "       'Canada', 'Central African Republic', 'Chad', 'Chile', 'China',\n",
       "       'Colombia', 'Comoros', 'Congo, Dem. Rep.', 'Congo, Rep.',\n",
       "       'Costa Rica', \"Cote d'Ivoire\", 'Croatia', 'Cuba', 'Czech Republic',\n",
       "       'Denmark', 'Djibouti', 'Dominican Republic', 'Ecuador', 'Egypt',\n",
       "       'El Salvador', 'Equatorial Guinea', 'Eritrea', 'Ethiopia',\n",
       "       'Finland', 'France', 'Gabon', 'Gambia', 'Germany', 'Ghana',\n",
       "       'Greece', 'Guatemala', 'Guinea', 'Guinea-Bissau', 'Haiti',\n",
       "       'Honduras', 'Hong Kong, China', 'Hungary', 'Iceland', 'India',\n",
       "       'Indonesia', 'Iran', 'Iraq', 'Ireland', 'Israel', 'Italy',\n",
       "       'Jamaica', 'Japan', 'Jordan', 'Kenya', 'Korea, Dem. Rep.',\n",
       "       'Korea, Rep.', 'Kuwait', 'Lebanon', 'Lesotho', 'Liberia', 'Libya',\n",
       "       'Madagascar', 'Malawi', 'Malaysia', 'Mali', 'Mauritania',\n",
       "       'Mauritius', 'Mexico', 'Mongolia', 'Montenegro', 'Morocco',\n",
       "       'Mozambique', 'Myanmar', 'Namibia', 'Nepal', 'Netherlands',\n",
       "       'New Zealand', 'Nicaragua', 'Niger', 'Nigeria', 'Norway', 'Oman',\n",
       "       'Pakistan', 'Panama', 'Paraguay', 'Peru', 'Philippines', 'Poland',\n",
       "       'Portugal', 'Puerto Rico', 'Reunion', 'Romania', 'Rwanda',\n",
       "       'Sao Tome and Principe', 'Saudi Arabia', 'Senegal', 'Serbia',\n",
       "       'Sierra Leone', 'Singapore', 'Slovak Republic', 'Slovenia',\n",
       "       'Somalia', 'South Africa', 'Spain', 'Sri Lanka', 'Sudan',\n",
       "       'Swaziland', 'Sweden', 'Switzerland', 'Syria', 'Taiwan',\n",
       "       'Tanzania', 'Thailand', 'Togo', 'Trinidad and Tobago', 'Tunisia',\n",
       "       'Turkey', 'Uganda', 'United Kingdom', 'United States', 'Uruguay',\n",
       "       'Venezuela', 'Vietnam', 'West Bank and Gaza', 'Yemen, Rep.',\n",
       "       'Zambia', 'Zimbabwe'], dtype=object)"
      ]
     },
     "execution_count": 34,
     "metadata": {},
     "output_type": "execute_result"
    }
   ],
   "source": [
    "pd.unique(c.country)"
   ]
  },
  {
   "cell_type": "code",
   "execution_count": null,
   "metadata": {},
   "outputs": [],
   "source": [
    "# req:- Examing the popualtion rates of countries\n",
    "------"
   ]
  },
  {
   "cell_type": "code",
   "execution_count": 35,
   "metadata": {},
   "outputs": [],
   "source": [
    "# getting India adn china population growth"
   ]
  },
  {
   "cell_type": "code",
   "execution_count": 41,
   "metadata": {},
   "outputs": [],
   "source": [
    "china = c[c.country=='China']"
   ]
  },
  {
   "cell_type": "code",
   "execution_count": 42,
   "metadata": {},
   "outputs": [
    {
     "data": {
      "text/html": [
       "<div>\n",
       "<style scoped>\n",
       "    .dataframe tbody tr th:only-of-type {\n",
       "        vertical-align: middle;\n",
       "    }\n",
       "\n",
       "    .dataframe tbody tr th {\n",
       "        vertical-align: top;\n",
       "    }\n",
       "\n",
       "    .dataframe thead th {\n",
       "        text-align: right;\n",
       "    }\n",
       "</style>\n",
       "<table border=\"1\" class=\"dataframe\">\n",
       "  <thead>\n",
       "    <tr style=\"text-align: right;\">\n",
       "      <th></th>\n",
       "      <th>country</th>\n",
       "      <th>year</th>\n",
       "      <th>population</th>\n",
       "    </tr>\n",
       "  </thead>\n",
       "  <tbody>\n",
       "    <tr>\n",
       "      <td>288</td>\n",
       "      <td>China</td>\n",
       "      <td>1952</td>\n",
       "      <td>556263527</td>\n",
       "    </tr>\n",
       "    <tr>\n",
       "      <td>289</td>\n",
       "      <td>China</td>\n",
       "      <td>1957</td>\n",
       "      <td>637408000</td>\n",
       "    </tr>\n",
       "    <tr>\n",
       "      <td>290</td>\n",
       "      <td>China</td>\n",
       "      <td>1962</td>\n",
       "      <td>665770000</td>\n",
       "    </tr>\n",
       "    <tr>\n",
       "      <td>291</td>\n",
       "      <td>China</td>\n",
       "      <td>1967</td>\n",
       "      <td>754550000</td>\n",
       "    </tr>\n",
       "    <tr>\n",
       "      <td>292</td>\n",
       "      <td>China</td>\n",
       "      <td>1972</td>\n",
       "      <td>862030000</td>\n",
       "    </tr>\n",
       "    <tr>\n",
       "      <td>293</td>\n",
       "      <td>China</td>\n",
       "      <td>1977</td>\n",
       "      <td>943455000</td>\n",
       "    </tr>\n",
       "    <tr>\n",
       "      <td>294</td>\n",
       "      <td>China</td>\n",
       "      <td>1982</td>\n",
       "      <td>1000281000</td>\n",
       "    </tr>\n",
       "    <tr>\n",
       "      <td>295</td>\n",
       "      <td>China</td>\n",
       "      <td>1987</td>\n",
       "      <td>1084035000</td>\n",
       "    </tr>\n",
       "    <tr>\n",
       "      <td>296</td>\n",
       "      <td>China</td>\n",
       "      <td>1992</td>\n",
       "      <td>1164970000</td>\n",
       "    </tr>\n",
       "    <tr>\n",
       "      <td>297</td>\n",
       "      <td>China</td>\n",
       "      <td>1997</td>\n",
       "      <td>1230075000</td>\n",
       "    </tr>\n",
       "    <tr>\n",
       "      <td>298</td>\n",
       "      <td>China</td>\n",
       "      <td>2002</td>\n",
       "      <td>1280400000</td>\n",
       "    </tr>\n",
       "    <tr>\n",
       "      <td>299</td>\n",
       "      <td>China</td>\n",
       "      <td>2007</td>\n",
       "      <td>1318683096</td>\n",
       "    </tr>\n",
       "  </tbody>\n",
       "</table>\n",
       "</div>"
      ],
      "text/plain": [
       "    country  year  population\n",
       "288   China  1952   556263527\n",
       "289   China  1957   637408000\n",
       "290   China  1962   665770000\n",
       "291   China  1967   754550000\n",
       "292   China  1972   862030000\n",
       "293   China  1977   943455000\n",
       "294   China  1982  1000281000\n",
       "295   China  1987  1084035000\n",
       "296   China  1992  1164970000\n",
       "297   China  1997  1230075000\n",
       "298   China  2002  1280400000\n",
       "299   China  2007  1318683096"
      ]
     },
     "execution_count": 42,
     "metadata": {},
     "output_type": "execute_result"
    }
   ],
   "source": [
    "china"
   ]
  },
  {
   "cell_type": "code",
   "execution_count": 64,
   "metadata": {},
   "outputs": [],
   "source": [
    "india = c[c.country=='India']"
   ]
  },
  {
   "cell_type": "code",
   "execution_count": 65,
   "metadata": {},
   "outputs": [
    {
     "data": {
      "text/html": [
       "<div>\n",
       "<style scoped>\n",
       "    .dataframe tbody tr th:only-of-type {\n",
       "        vertical-align: middle;\n",
       "    }\n",
       "\n",
       "    .dataframe tbody tr th {\n",
       "        vertical-align: top;\n",
       "    }\n",
       "\n",
       "    .dataframe thead th {\n",
       "        text-align: right;\n",
       "    }\n",
       "</style>\n",
       "<table border=\"1\" class=\"dataframe\">\n",
       "  <thead>\n",
       "    <tr style=\"text-align: right;\">\n",
       "      <th></th>\n",
       "      <th>country</th>\n",
       "      <th>year</th>\n",
       "      <th>population</th>\n",
       "    </tr>\n",
       "  </thead>\n",
       "  <tbody>\n",
       "    <tr>\n",
       "      <td>696</td>\n",
       "      <td>India</td>\n",
       "      <td>1952</td>\n",
       "      <td>372000000</td>\n",
       "    </tr>\n",
       "    <tr>\n",
       "      <td>697</td>\n",
       "      <td>India</td>\n",
       "      <td>1957</td>\n",
       "      <td>409000000</td>\n",
       "    </tr>\n",
       "    <tr>\n",
       "      <td>698</td>\n",
       "      <td>India</td>\n",
       "      <td>1962</td>\n",
       "      <td>454000000</td>\n",
       "    </tr>\n",
       "    <tr>\n",
       "      <td>699</td>\n",
       "      <td>India</td>\n",
       "      <td>1967</td>\n",
       "      <td>506000000</td>\n",
       "    </tr>\n",
       "    <tr>\n",
       "      <td>700</td>\n",
       "      <td>India</td>\n",
       "      <td>1972</td>\n",
       "      <td>567000000</td>\n",
       "    </tr>\n",
       "    <tr>\n",
       "      <td>701</td>\n",
       "      <td>India</td>\n",
       "      <td>1977</td>\n",
       "      <td>634000000</td>\n",
       "    </tr>\n",
       "    <tr>\n",
       "      <td>702</td>\n",
       "      <td>India</td>\n",
       "      <td>1982</td>\n",
       "      <td>708000000</td>\n",
       "    </tr>\n",
       "    <tr>\n",
       "      <td>703</td>\n",
       "      <td>India</td>\n",
       "      <td>1987</td>\n",
       "      <td>788000000</td>\n",
       "    </tr>\n",
       "    <tr>\n",
       "      <td>704</td>\n",
       "      <td>India</td>\n",
       "      <td>1992</td>\n",
       "      <td>872000000</td>\n",
       "    </tr>\n",
       "    <tr>\n",
       "      <td>705</td>\n",
       "      <td>India</td>\n",
       "      <td>1997</td>\n",
       "      <td>959000000</td>\n",
       "    </tr>\n",
       "    <tr>\n",
       "      <td>706</td>\n",
       "      <td>India</td>\n",
       "      <td>2002</td>\n",
       "      <td>1034172547</td>\n",
       "    </tr>\n",
       "    <tr>\n",
       "      <td>707</td>\n",
       "      <td>India</td>\n",
       "      <td>2007</td>\n",
       "      <td>1110396331</td>\n",
       "    </tr>\n",
       "  </tbody>\n",
       "</table>\n",
       "</div>"
      ],
      "text/plain": [
       "    country  year  population\n",
       "696   India  1952   372000000\n",
       "697   India  1957   409000000\n",
       "698   India  1962   454000000\n",
       "699   India  1967   506000000\n",
       "700   India  1972   567000000\n",
       "701   India  1977   634000000\n",
       "702   India  1982   708000000\n",
       "703   India  1987   788000000\n",
       "704   India  1992   872000000\n",
       "705   India  1997   959000000\n",
       "706   India  2002  1034172547\n",
       "707   India  2007  1110396331"
      ]
     },
     "execution_count": 65,
     "metadata": {},
     "output_type": "execute_result"
    }
   ],
   "source": [
    "india"
   ]
  },
  {
   "cell_type": "code",
   "execution_count": 66,
   "metadata": {},
   "outputs": [
    {
     "data": {
      "image/png": "[encoded data removed]",
      "text/plain": [
       "<Figure size 432x288 with 1 Axes>"
      ]
     },
     "metadata": {
      "needs_background": "light"
     },
     "output_type": "display_data"
    }
   ],
   "source": [
    "plt.plot(china.year,china.population/(10**6))\n",
    "plt.plot(india.year,india.population/(10**6))\n",
    "plt.xlabel('years')\n",
    "plt.ylabel('population in millons')\n",
    "plt.title('population growth comparison')\n",
    "plt.legend(['china','india'])\n",
    "plt.show()"
   ]
  },
  {
   "cell_type": "code",
   "execution_count": 56,
   "metadata": {},
   "outputs": [
    {
     "data": {
      "text/plain": [
       "701130739.8333334"
      ]
     },
     "execution_count": 56,
     "metadata": {},
     "output_type": "execute_result"
    }
   ],
   "source": [
    "india.population.mean()"
   ]
  },
  {
   "cell_type": "code",
   "execution_count": 67,
   "metadata": {},
   "outputs": [
    {
     "data": {
      "text/plain": [
       "958160051.9166666"
      ]
     },
     "execution_count": 67,
     "metadata": {},
     "output_type": "execute_result"
    }
   ],
   "source": [
    "china.population.mean()"
   ]
  },
  {
   "cell_type": "code",
   "execution_count": 68,
   "metadata": {},
   "outputs": [
    {
     "data": {
      "text/plain": [
       "6.336509970871642e+16"
      ]
     },
     "execution_count": 68,
     "metadata": {},
     "output_type": "execute_result"
    }
   ],
   "source": [
    "india.population.var()"
   ]
  },
  {
   "cell_type": "code",
   "execution_count": 69,
   "metadata": {},
   "outputs": [
    {
     "data": {
      "text/plain": [
       "6.990464877993024e+16"
      ]
     },
     "execution_count": 69,
     "metadata": {},
     "output_type": "execute_result"
    }
   ],
   "source": [
    "china.population.var()"
   ]
  },
  {
   "cell_type": "code",
   "execution_count": 71,
   "metadata": {},
   "outputs": [],
   "source": [
    "con=pd.unique(c.country)"
   ]
  },
  {
   "cell_type": "code",
   "execution_count": 73,
   "metadata": {},
   "outputs": [
    {
     "data": {
      "text/plain": [
       "array(['Afghanistan', 'Albania', 'Algeria', 'Angola', 'Argentina',\n",
       "       'Australia', 'Austria', 'Bahrain', 'Bangladesh', 'Belgium',\n",
       "       'Benin', 'Bolivia', 'Bosnia and Herzegovina', 'Botswana', 'Brazil',\n",
       "       'Bulgaria', 'Burkina Faso', 'Burundi', 'Cambodia', 'Cameroon',\n",
       "       'Canada', 'Central African Republic', 'Chad', 'Chile', 'China',\n",
       "       'Colombia', 'Comoros', 'Congo, Dem. Rep.', 'Congo, Rep.',\n",
       "       'Costa Rica', \"Cote d'Ivoire\", 'Croatia', 'Cuba', 'Czech Republic',\n",
       "       'Denmark', 'Djibouti', 'Dominican Republic', 'Ecuador', 'Egypt',\n",
       "       'El Salvador', 'Equatorial Guinea', 'Eritrea', 'Ethiopia',\n",
       "       'Finland', 'France', 'Gabon', 'Gambia', 'Germany', 'Ghana',\n",
       "       'Greece', 'Guatemala', 'Guinea', 'Guinea-Bissau', 'Haiti',\n",
       "       'Honduras', 'Hong Kong, China', 'Hungary', 'Iceland', 'India',\n",
       "       'Indonesia', 'Iran', 'Iraq', 'Ireland', 'Israel', 'Italy',\n",
       "       'Jamaica', 'Japan', 'Jordan', 'Kenya', 'Korea, Dem. Rep.',\n",
       "       'Korea, Rep.', 'Kuwait', 'Lebanon', 'Lesotho', 'Liberia', 'Libya',\n",
       "       'Madagascar', 'Malawi', 'Malaysia', 'Mali', 'Mauritania',\n",
       "       'Mauritius', 'Mexico', 'Mongolia', 'Montenegro', 'Morocco',\n",
       "       'Mozambique', 'Myanmar', 'Namibia', 'Nepal', 'Netherlands',\n",
       "       'New Zealand', 'Nicaragua', 'Niger', 'Nigeria', 'Norway', 'Oman',\n",
       "       'Pakistan', 'Panama', 'Paraguay', 'Peru', 'Philippines', 'Poland',\n",
       "       'Portugal', 'Puerto Rico', 'Reunion', 'Romania', 'Rwanda',\n",
       "       'Sao Tome and Principe', 'Saudi Arabia', 'Senegal', 'Serbia',\n",
       "       'Sierra Leone', 'Singapore', 'Slovak Republic', 'Slovenia',\n",
       "       'Somalia', 'South Africa', 'Spain', 'Sri Lanka', 'Sudan',\n",
       "       'Swaziland', 'Sweden', 'Switzerland', 'Syria', 'Taiwan',\n",
       "       'Tanzania', 'Thailand', 'Togo', 'Trinidad and Tobago', 'Tunisia',\n",
       "       'Turkey', 'Uganda', 'United Kingdom', 'United States', 'Uruguay',\n",
       "       'Venezuela', 'Vietnam', 'West Bank and Gaza', 'Yemen, Rep.',\n",
       "       'Zambia', 'Zimbabwe'], dtype=object)"
      ]
     },
     "execution_count": 73,
     "metadata": {},
     "output_type": "execute_result"
    }
   ],
   "source": [
    "con"
   ]
  },
  {
   "cell_type": "code",
   "execution_count": 83,
   "metadata": {},
   "outputs": [
    {
     "data": {
      "image/png": "[encoded data removed]",
      "text/plain": [
       "<Figure size 432x288 with 1 Axes>"
      ]
     },
     "metadata": {
      "needs_background": "light"
     },
     "output_type": "display_data"
    }
   ],
   "source": [
    "# population comparision of all countries\n",
    "\n",
    "for i in con:\n",
    "    plt.plot(c[c.country==i].year,c[c.country==i].population/(10**6))\n",
    "plt.xlabel('year')\n",
    "plt.ylabel('population in millions')\n",
    "plt.title('population comparison')\n",
    "plt.show()"
   ]
  },
  {
   "cell_type": "code",
   "execution_count": null,
   "metadata": {},
   "outputs": [],
   "source": []
  },
  {
   "cell_type": "code",
   "execution_count": null,
   "metadata": {},
   "outputs": [],
   "source": []
  },
  {
   "cell_type": "code",
   "execution_count": null,
   "metadata": {},
   "outputs": [],
   "source": []
  },
  {
   "cell_type": "code",
   "execution_count": null,
   "metadata": {},
   "outputs": [],
   "source": []
  },
  {
   "cell_type": "code",
   "execution_count": null,
   "metadata": {},
   "outputs": [],
   "source": []
  },
  {
   "cell_type": "code",
   "execution_count": null,
   "metadata": {},
   "outputs": [],
   "source": []
  }
 ],
 "metadata": {
  "kernelspec": {
   "display_name": "Python 3",
   "language": "python",
   "name": "python3"
  },
  "language_info": {
   "codemirror_mode": {
    "name": "ipython",
    "version": 3
   },
   "file_extension": ".py",
   "mimetype": "text/x-python",
   "name": "python",
   "nbconvert_exporter": "python",
   "pygments_lexer": "ipython3",
   "version": "3.7.4"
  }
 },
 "nbformat": 4,
 "nbformat_minor": 2
}
