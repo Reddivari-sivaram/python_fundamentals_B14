{
 "cells": [
  {
   "cell_type": "code",
   "execution_count": 31,
   "metadata": {},
   "outputs": [],
   "source": [
    "# T_shirt function\n",
    "\n",
    "def make_shirt(size,text):\n",
    "    print(f\"the size you selected is {size.title()}\\n\")\n",
    "    print(f\"The massge that going to print on your T_shirt is {text.title()}\")\n",
    "\n"
   ]
  },
  {
   "cell_type": "code",
   "execution_count": 32,
   "metadata": {},
   "outputs": [
    {
     "name": "stdout",
     "output_type": "stream",
     "text": [
      "the size you selected is Medium\n",
      "\n",
      "The massge that going to print on your T_shirt is Let'S Rock\n"
     ]
    }
   ],
   "source": [
    "make_shirt('medium',\"Let's Rock\")"
   ]
  },
  {
   "cell_type": "code",
   "execution_count": null,
   "metadata": {},
   "outputs": [],
   "source": []
  },
  {
   "cell_type": "code",
   "execution_count": 33,
   "metadata": {},
   "outputs": [],
   "source": [
    "# Large Shirts\n",
    "\n",
    "def make_shirt(size='large',text='I Love Pyhton'):\n",
    "    \n",
    "    if size=='large' or 'medium':\n",
    "        print(f\"the size you selected is {size.title()}\\n\")\n",
    "        print(f\"The massge that going to print on your T_shirt is {text.title()}\")\n",
    "    else:\n",
    "        print(f\"the size you selected is {size.title()}\\n\")\n",
    "        print(f\"The massge that going to print on your T_shirt is {text.title()}\")"
   ]
  },
  {
   "cell_type": "code",
   "execution_count": 34,
   "metadata": {},
   "outputs": [
    {
     "name": "stdout",
     "output_type": "stream",
     "text": [
      "the size you selected is Large\n",
      "\n",
      "The massge that going to print on your T_shirt is I Love Pyhton\n"
     ]
    }
   ],
   "source": [
    "make_shirt()"
   ]
  },
  {
   "cell_type": "code",
   "execution_count": 35,
   "metadata": {},
   "outputs": [
    {
     "name": "stdout",
     "output_type": "stream",
     "text": [
      "the size you selected is Lmedium\n",
      "\n",
      "The massge that going to print on your T_shirt is I Love Java\n"
     ]
    }
   ],
   "source": [
    "make_shirt('lmedium','I love java')"
   ]
  },
  {
   "cell_type": "code",
   "execution_count": 36,
   "metadata": {},
   "outputs": [
    {
     "name": "stdout",
     "output_type": "stream",
     "text": [
      "the size you selected is Medium\n",
      "\n",
      "The massge that going to print on your T_shirt is I Love Pyhton\n"
     ]
    }
   ],
   "source": [
    "make_shirt('medium')"
   ]
  },
  {
   "cell_type": "code",
   "execution_count": null,
   "metadata": {},
   "outputs": [],
   "source": []
  },
  {
   "cell_type": "code",
   "execution_count": 40,
   "metadata": {},
   "outputs": [],
   "source": [
    "# Describe_city\n",
    "\n",
    "def describe_city(city,country='INDIA'):\n",
    "    print(f\"{city.title()} is in {country.upper()}\")"
   ]
  },
  {
   "cell_type": "code",
   "execution_count": 41,
   "metadata": {},
   "outputs": [
    {
     "name": "stdout",
     "output_type": "stream",
     "text": [
      "Bengalore is in INDIA\n"
     ]
    }
   ],
   "source": [
    "describe_city(\"Bengalore\")"
   ]
  },
  {
   "cell_type": "code",
   "execution_count": 43,
   "metadata": {},
   "outputs": [
    {
     "name": "stdout",
     "output_type": "stream",
     "text": [
      "Hyderabad is in INDIA\n"
     ]
    }
   ],
   "source": [
    "describe_city(\"hyderabad\",'india')"
   ]
  },
  {
   "cell_type": "code",
   "execution_count": 44,
   "metadata": {},
   "outputs": [
    {
     "name": "stdout",
     "output_type": "stream",
     "text": [
      "Newyork is in INDIA\n"
     ]
    }
   ],
   "source": [
    "describe_city('newyork')"
   ]
  },
  {
   "cell_type": "code",
   "execution_count": null,
   "metadata": {},
   "outputs": [],
   "source": []
  }
 ],
 "metadata": {
  "kernelspec": {
   "display_name": "Python 3",
   "language": "python",
   "name": "python3"
  },
  "language_info": {
   "codemirror_mode": {
    "name": "ipython",
    "version": 3
   },
   "file_extension": ".py",
   "mimetype": "text/x-python",
   "name": "python",
   "nbconvert_exporter": "python",
   "pygments_lexer": "ipython3",
   "version": "3.7.4"
  }
 },
 "nbformat": 4,
 "nbformat_minor": 2
}
